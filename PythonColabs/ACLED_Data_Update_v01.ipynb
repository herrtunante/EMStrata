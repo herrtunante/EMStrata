{
  "cells": [
    {
      "cell_type": "markdown",
      "source": [
        "# UPDATER OF THE CONFLICT LAYER IN STRATA\n",
        "\n",
        "This script is used by Strata (https://strata.earthmap.org) in order to update the Conflict layers. It downloads data from the **ACLED** (https://acleddata.com/) using its API and stores it into GEE FeatureCollections. Then the FeatureCollections are read from GEE and an Image is generated using the location of the conflict data to buffer a square of 5000 meters around the point.\n",
        "\n"
      ],
      "metadata": {
        "id": "nTNsU3gzWhpc"
      }
    },
    {
      "cell_type": "markdown",
      "source": [
        "# **0** SET UP BEFORE RUNNING SCRIPTS"
      ],
      "metadata": {
        "id": "SfMnt5s1BBVJ"
      }
    },
    {
      "cell_type": "markdown",
      "metadata": {
        "id": "PnC7it_HNaIR"
      },
      "source": [
        "**0.1** Setup imports"
      ]
    },
    {
      "cell_type": "code",
      "execution_count": null,
      "metadata": {
        "id": "smiSlTxtNYJp"
      },
      "outputs": [],
      "source": [
        "!pip install requests\n",
        "!pip install python-dateutil\n",
        "import requests\n",
        "import ee\n",
        "from datetime import datetime, timedelta, date\n",
        "from dateutil.relativedelta import relativedelta\n",
        "from google.colab import userdata"
      ]
    },
    {
      "cell_type": "markdown",
      "metadata": {
        "id": "4J5XwSZMcPON"
      },
      "source": [
        "### **0.2** Define Global variables\n",
        "\n",
        "You will need to add these secrets:\n",
        "\n",
        "1. **ACLED_API_KEY** ( these can be obtained here : https://developer.acleddata.com/ )\n",
        "2. **ACLED_USER_EMAIL** (the email address used to obtain the API KEY)\n",
        "2. **GEE_USER** ( your GEE user)\n",
        "3. **ProjectID_GEE** ( the GEE-Google Cloud enabled project)"
      ]
    },
    {
      "cell_type": "code",
      "execution_count": null,
      "metadata": {
        "id": "ZYlRMBK_cRXU"
      },
      "outputs": [],
      "source": [
        "# THE ACTUAL VALUES FOR API KEYS AND GEE PROJECT ID AND USERS ARE STORED AS SECRETS IN COLAB\n",
        "\n",
        "# Set your Earth Engine project ID\n",
        "project_id = userdata.get('ProjectID_GEE')\n",
        "\n",
        "# Replace with your actual ACLED API key and email\n",
        "ACLED_API_KEY = userdata.get('ACLED_API_KEY')  # Your unique API key from ACLED\n",
        "ACLED_USER_EMAIL = userdata.get('ACLED_USER_EMAIL')  # The email you registered with at ACLED\n",
        "\n",
        "\n",
        "# Set the prefix for GEE username and asset folder path\n",
        "prefix = \"users/\" + userdata.get('GEE_USER')\n",
        "assetFolder = f\"{prefix}/ACLED/downloadedConflictData\"  # Folderd path for storing ACLED data (each asset is a FeatureCollection)"
      ]
    },
    {
      "cell_type": "markdown",
      "metadata": {
        "id": "wTjcNomJsmVL"
      },
      "source": [
        "**0.3** Initialize GEE connection"
      ]
    },
    {
      "cell_type": "code",
      "execution_count": null,
      "metadata": {
        "id": "eAym7TtHpVRf"
      },
      "outputs": [],
      "source": [
        "ee.Authenticate()\n",
        "\n",
        "# Initialize Earth Engine with your project ID\n",
        "ee.Initialize(project=project_id)\n"
      ]
    },
    {
      "cell_type": "markdown",
      "metadata": {
        "id": "whaM3rI7wE-A"
      },
      "source": [
        "**0.4** Define common methods for parts 1 and 2:\n",
        "- Define Monitor for upload task\n"
      ]
    },
    {
      "cell_type": "code",
      "execution_count": null,
      "metadata": {
        "id": "oBG28BCEwHyX"
      },
      "outputs": [],
      "source": [
        "import time\n",
        "\n",
        "# Function to check task completion\n",
        "def check_tasks_completion(task_ids, callbackFunction):\n",
        "    \"\"\"\n",
        "    Continuously checks the status of a list of tasks until all are completed, failed, or cancelled.\n",
        "\n",
        "    Args:\n",
        "    task_ids (list): A list of task IDs to check.\n",
        "    callbackFunction (function): A callback function to execute once all tasks are completed.\n",
        "\n",
        "    \"\"\"\n",
        "    while True:\n",
        "        all_done = True  # Flag to track if all tasks are done\n",
        "\n",
        "        # Iterate over each task ID to check its status\n",
        "        for task_id in task_ids:\n",
        "            task = ee.data.getTaskStatus(task_id)[0]  # Get the status of the current task\n",
        "            if task['state'] not in ['COMPLETED', 'FAILED', 'CANCELLED']:\n",
        "                all_done = False  # If any task is not done, set flag to False\n",
        "                break  # Exit the loop early if any task is not done\n",
        "\n",
        "        if all_done:\n",
        "            print(\"All tasks completed.\")\n",
        "\n",
        "            try:\n",
        "                # Check if the callbackFunction is callable, then execute it\n",
        "                if callable(callbackFunction):\n",
        "                    print(\"Executing callback function.\")\n",
        "                    callbackFunction()\n",
        "            except NameError:\n",
        "                # Handle the case where the callbackFunction is not defined\n",
        "                print(\"There is no callback declared.\")\n",
        "\n",
        "            break  # Exit the while loop if all tasks are done\n",
        "        else:\n",
        "            print(\"Tasks still running. Waiting...\")\n",
        "            time.sleep(30)  # Wait for 30 seconds before checking again\n",
        "\n",
        "# Example usage\n",
        "# check_tasks_completion(['task_id_1', 'task_id_2'], my_callback_function)\n"
      ]
    },
    {
      "cell_type": "markdown",
      "source": [
        "# **1** DOWNLOAD ACLED DATA TO THE GEE REPOSITORY"
      ],
      "metadata": {
        "id": "Ktao9-97ma5b"
      }
    },
    {
      "cell_type": "markdown",
      "metadata": {
        "id": "JPD0eq6Lo0GV"
      },
      "source": [
        "**1.1** Define methods necessary to connect to ACLED API"
      ]
    },
    {
      "cell_type": "markdown",
      "metadata": {
        "id": "a8DOuA-lQkJP"
      },
      "source": [
        "Define a method to download data from a date range"
      ]
    },
    {
      "cell_type": "code",
      "execution_count": null,
      "metadata": {
        "id": "CJs37Dr6o5Yp"
      },
      "outputs": [],
      "source": [
        "import requests\n",
        "\n",
        "def downloadData(start_date, end_date):\n",
        "    \"\"\"\n",
        "    Download data from the ACLED API within the specified date range.\n",
        "\n",
        "    Args:\n",
        "    start_date (str): The start date for the data retrieval (format: 'YYYY-MM-DD').\n",
        "    end_date (str): The end date for the data retrieval (format: 'YYYY-MM-DD').\n",
        "\n",
        "    Returns:\n",
        "    list: A list of dictionaries containing the retrieved data.\n",
        "    \"\"\"\n",
        "\n",
        "    # Construct the base API request URL with necessary parameters\n",
        "    base_url = (\n",
        "        f'https://api.acleddata.com/acled/read?key={ACLED_API_KEY}&email={ACLED_USER_EMAIL}'\n",
        "        f'&event_date={start_date}|{end_date}&event_date_where=BETWEEN&limit=10000'\n",
        "        '&event_type=Riots:OR:event_type=Battles:OR:event_type=Explosions/Remote%20violence'\n",
        "        ':OR:event_type=Violence%20against%20civilians:OR:event_type=Protests'\n",
        "    )\n",
        "\n",
        "    # Initialize an empty list to hold all the retrieved data\n",
        "    all_data = []\n",
        "    page = 1  # Start from the first page of the API response\n",
        "\n",
        "    while True:\n",
        "        # Construct the URL for the current page\n",
        "        url = f\"{base_url}&page={page}\"\n",
        "        print(f\"Fetching page {page}: {url}\")\n",
        "\n",
        "        # Make the API request\n",
        "        response = requests.get(url)\n",
        "\n",
        "        # Check if the request was successful\n",
        "        if response.status_code == 200:\n",
        "            # Parse the response data\n",
        "            data = response.json()\n",
        "            if 'count' in data and data['count'] > 0:\n",
        "                # Add the retrieved data to the all_data list\n",
        "                all_data.extend(data['data'])\n",
        "                # Increment the page number for the next iteration\n",
        "                page += 1\n",
        "            else:\n",
        "                # No more data to fetch; exit the loop\n",
        "                break\n",
        "        else:\n",
        "            # Handle errors in the API request\n",
        "            raise ValueError(\"Error Fetching data\", response.status_code)\n",
        "\n",
        "    return all_data\n",
        "\n",
        "# Example usage\n",
        "# data = downloadData('2023-01-01', '2023-06-01')\n",
        "# print(data)\n"
      ]
    },
    {
      "cell_type": "markdown",
      "metadata": {
        "id": "nsKIrAuqQprp"
      },
      "source": [
        "Define method to download conflicts for a period\n",
        "\n"
      ]
    },
    {
      "cell_type": "code",
      "execution_count": null,
      "metadata": {
        "id": "WSijdUiBObpz"
      },
      "outputs": [],
      "source": [
        "def get_conflicts_period(startDate, endDate):\n",
        "    \"\"\"\n",
        "    Retrieve conflict data for a specified period.\n",
        "\n",
        "    Args:\n",
        "    startDate (datetime): The start date for the period.\n",
        "    endDate (datetime): The end date for the period.\n",
        "\n",
        "    Returns:\n",
        "    list: A list of dictionaries containing conflict data for the specified period.\n",
        "    \"\"\"\n",
        "\n",
        "    # Format the start and end dates as strings in the format 'YYYY-MM-DD'\n",
        "    formatted_start_date = startDate.strftime(\"%Y-%m-%d\")\n",
        "    formatted_end_date = endDate.strftime(\"%Y-%m-%d\")\n",
        "\n",
        "    # Download conflict data from the ACLED API for the specified date range\n",
        "    data_period = downloadData(formatted_start_date, formatted_end_date)\n",
        "\n",
        "    return data_period\n",
        "\n",
        "# Example usage\n",
        "# from datetime import datetime\n",
        "# conflicts = get_conflicts_period(datetime(2023, 1, 1), datetime(2023, 6, 1))\n",
        "# print(conflicts)\n"
      ]
    },
    {
      "cell_type": "markdown",
      "metadata": {
        "id": "dvuCMA0aQ2mI"
      },
      "source": [
        "Define method to check if an asset exists in the GEE repository"
      ]
    },
    {
      "cell_type": "code",
      "execution_count": null,
      "metadata": {
        "id": "pKiHICG-Q2H_"
      },
      "outputs": [],
      "source": [
        "# Function to check if the asset exists\n",
        "def check_asset_exists(asset_name):\n",
        "    try:\n",
        "        asset_info = ee.data.getInfo(asset_name)\n",
        "        return asset_info is not None\n",
        "    except ee.EEException:\n",
        "        return False\n"
      ]
    },
    {
      "cell_type": "markdown",
      "metadata": {
        "id": "CbKPjp_Vo5tu"
      },
      "source": [
        "**Define methods to generate Feature Collection in GEE with the ACLED data**"
      ]
    },
    {
      "cell_type": "markdown",
      "metadata": {
        "id": "A8EIstnfsqtC"
      },
      "source": [
        "Define methods to create FeatureCollection from downloaded ACLED conflicts"
      ]
    },
    {
      "cell_type": "code",
      "execution_count": null,
      "metadata": {
        "id": "NkjMQVwqslPf"
      },
      "outputs": [],
      "source": [
        "def generate_feature_collection_conflicts_with_data(data_downloaded):\n",
        "    \"\"\"\n",
        "    Generate a FeatureCollection from a list of data items.\n",
        "\n",
        "    Args:\n",
        "    data_downloaded (list): A list of dictionaries, where each dictionary contains\n",
        "                            'longitude', 'latitude', 'event_type', and 'timestamp' keys.\n",
        "\n",
        "    Returns:\n",
        "    ee.FeatureCollection: An Earth Engine FeatureCollection containing features with\n",
        "                          point geometries and properties.\n",
        "    \"\"\"\n",
        "    # Create a list to hold the Features\n",
        "    features = []\n",
        "\n",
        "    # Iterate over the items in your data\n",
        "    for item in data_downloaded:\n",
        "        # Create a point geometry using the longitude and latitude from the item\n",
        "        point = ee.Geometry.Point([float(item['longitude']), float(item['latitude'])])\n",
        "\n",
        "        # Define the properties for the feature using the event type and timestamp\n",
        "        properties = {'event_type': item['event_type'], 'timestamp': item['timestamp']}\n",
        "        # include all properties but lat and long\n",
        "        # properties = {k: v for k, v in item.items() if k not in ['latitude', 'longitude']}\n",
        "        # This code fails beacuse there is too much data, we just keep event_type and timestamp\n",
        "\n",
        "        # Create a feature from the point geometry and properties\n",
        "        feature = ee.Feature(point, properties)\n",
        "\n",
        "        # Add the feature to the list\n",
        "        features.append(feature)\n",
        "\n",
        "    # Create a FeatureCollection from the list of features\n",
        "    feature_collection = ee.FeatureCollection(features)\n",
        "    return feature_collection\n",
        "\n",
        "def generate_feature_collection_conflicts_period(startDate, endDate):\n",
        "    \"\"\"\n",
        "    Generate a FeatureCollection for conflicts occurring within a specified period.\n",
        "\n",
        "    Args:\n",
        "    startDate (datetime): The start date for the period.\n",
        "    endDate (datetime): The end date for the period.\n",
        "\n",
        "    Returns:\n",
        "    ee.FeatureCollection: An Earth Engine FeatureCollection containing features for\n",
        "                          conflicts occurring within the specified period.\n",
        "    \"\"\"\n",
        "    # Retrieve the conflict data for the specified period\n",
        "    data_period = get_conflicts_period(startDate, endDate)\n",
        "\n",
        "    # Generate a FeatureCollection using the conflict data\n",
        "    return generate_feature_collection_conflicts_with_data(data_period)\n"
      ]
    },
    {
      "cell_type": "markdown",
      "metadata": {
        "id": "sZhdinnyulrC"
      },
      "source": [
        "**Upload to GEE - GOAL OF PART 1**"
      ]
    },
    {
      "cell_type": "code",
      "execution_count": null,
      "metadata": {
        "id": "OT_He_e6um_Y"
      },
      "outputs": [],
      "source": [
        "\n",
        "task_id_array = []  # List to store task IDs for tracking\n",
        "\n",
        "def get_asset_id(startDate, endDate):\n",
        "  \treturn assetFolder + '/Events_' + startDate.strftime('%Y%m%d') + '_' + endDate.strftime('%Y%m%d')\n",
        "\n",
        "def upload_conflict_asset(feature_collection, startDate, endDate):\n",
        "    \"\"\"\n",
        "    Uploads a feature collection to Google Earth Engine as an asset.\n",
        "\n",
        "    Args:\n",
        "    feature_collection (ee.FeatureCollection): The feature collection to be uploaded.\n",
        "    startDate (datetime): The start date of the data period.\n",
        "    endDate (datetime): The end date of the data period.\n",
        "\n",
        "    Returns:\n",
        "    bool: True if the task is started successfully.\n",
        "    \"\"\"\n",
        "    # Generate the asset ID using the folder path and date range\n",
        "    assetId = get_asset_id( startDate, endDate )\n",
        "\n",
        "    # Define the export parameters for the task\n",
        "    task = ee.batch.Export.table.toAsset(\n",
        "        collection=feature_collection,\n",
        "        description='monthly_acleddata_' + startDate.strftime('%Y%m%d') + '_' + endDate.strftime('%Y%m%d'),\n",
        "        assetId=assetId\n",
        "    )\n",
        "\n",
        "    # Start the export task\n",
        "    task.start()\n",
        "\n",
        "    # Append the task ID to the task_id_array for tracking\n",
        "    task_id_array.append(task.id)\n",
        "\n",
        "    return task.id  # Task started successfully\n",
        "\n",
        "def upload_conflict_period_to_asset(startDate, endDate):\n",
        "    \"\"\"\n",
        "    Generates and uploads the feature collection for a specified period to GEE.\n",
        "\n",
        "    Args:\n",
        "    startDate (datetime): The start date of the data period.\n",
        "    endDate (datetime): The end date of the data period.\n",
        "\n",
        "    Returns:\n",
        "    bool: True if the task is started successfully.\n",
        "    \"\"\"\n",
        "    # Generate the feature collection for the specified period\n",
        "    period_feature_collection = generate_feature_collection_conflicts_period(startDate, endDate)\n",
        "\n",
        "    # Upload the feature collection as an asset\n",
        "    return upload_conflict_asset(period_feature_collection, startDate, endDate)\n",
        "\n",
        "# Get the current date\n",
        "current_date = datetime.now()\n",
        "\n",
        "# Upload conflict data for each month from 2024 to 2024\n",
        "for year in range(2024, 2025):\n",
        "  for month in range(1, 13):\n",
        "      first_day = datetime(year, month, 1)  # First day of the month\n",
        "\n",
        "      # Calculate the last day of the month\n",
        "      if month == 12:\n",
        "          # If it's December, set the last day of December\n",
        "          last_day = datetime(year, month, 31)\n",
        "      else:\n",
        "          # Otherwise, calculate the last day normally\n",
        "          last_day = datetime(year, month + 1, 1) - timedelta(days=1)\n",
        "\n",
        "      # Check if the first day of the current iteration is beyond the current month\n",
        "      if last_day > current_date.replace(day=1):\n",
        "          print(\"Reached beyond the current month. Stopping the loop.\")\n",
        "          break\n",
        "\n",
        "      asset_id = get_asset_id( first_day, last_day )\n",
        "\n",
        "      if check_asset_exists(asset_id):\n",
        "          print(\"The asset exists. No need to generate it again: \" +asset_id )\n",
        "      else:\n",
        "          print(\"Generating asset for: \" + asset_id)\n",
        "          upload_conflict_period_to_asset(first_day, last_day)\n",
        "\n",
        "\n",
        "check_tasks_completion(task_id_array, None)\n"
      ]
    },
    {
      "cell_type": "markdown",
      "source": [
        "# **2** GENERATE IMAGES FOR CONFLICT TYPES"
      ],
      "metadata": {
        "id": "bV7Xb2DtnuoU"
      }
    },
    {
      "cell_type": "markdown",
      "metadata": {
        "id": "eE8IECMAGKfM"
      },
      "source": [
        "**2.1** Generate a single ee.FeatureCollection that joins the data from 2023 with the monthly exports generated automaticallly"
      ]
    },
    {
      "cell_type": "code",
      "execution_count": null,
      "metadata": {
        "id": "2ovIE4VOGaJG",
        "collapsed": true
      },
      "outputs": [],
      "source": [
        "\n",
        "# Load a FeatureCollection from a one-time download done back in January 2024\n",
        "acled_downloaded_features = ee.FeatureCollection(\"users/openforisearthmap/ACLED/events_20220101_202312231\")\n",
        "\n",
        "# List all assets (FeatureCollections) inside the specified folder\n",
        "# Adjust the folder path as necessary\n",
        "asset_list = ee.data.listAssets(assetFolder)\n",
        "print(asset_list)  # Print the list of assets to verify\n",
        "\n",
        "# Iterate through the asset IDs and merge them with the original 2023 data\n",
        "for asset in asset_list['assets']:\n",
        "    print(f\"{asset['id']} Merging with the other ACLED events\")\n",
        "\n",
        "    # Load the FeatureCollection for the current asset\n",
        "    asset_fc = ee.FeatureCollection(asset['id'])\n",
        "\n",
        "    # Merge the current FeatureCollection with the original 2023 data\n",
        "    acled_downloaded_features = acled_downloaded_features.merge(asset_fc)\n",
        "\n",
        "# Now, acled_downloaded_features contains the merged data from the original and all monthly updates\n",
        "\n"
      ]
    },
    {
      "cell_type": "markdown",
      "metadata": {
        "id": "sm3Ub1fmp2ne"
      },
      "source": [
        "**2.2 Define methods to generate images per conflict type using the current GEE script**\n",
        "\n",
        "Original at: https://code.earthengine.google.com/?scriptPath=users%2Fopenforisinitiative%2FEarthMap%3AStrata%2FPeace_and_Security%2FACLED"
      ]
    },
    {
      "cell_type": "code",
      "execution_count": null,
      "metadata": {
        "id": "Nl3bdJuXvkKo"
      },
      "outputs": [],
      "source": [
        "# Define the list of all conflict types to be considered\n",
        "CONFLICT_TYPES = [\"Riots\", \"Battles\", \"Explosions/Remote violence\", \"Violence against civilians\", \"Protests\"]\n",
        "\n",
        "ALL_CONFLICTS_COMBINED = \"AllConflicts\"\n",
        "\n",
        "# Function to get conflict features from the previous 12 months\n",
        "# assuming we just downloaded data from the last month (if we are in March, then February 2024)\n",
        "# we want to get the conflicts of the previous 12 months, meaning from 1st of March 2023 to end of February 2024\n",
        "def get_conflict_features_last_12_months():\n",
        "    # Get the current date and calculate the first day of the current month\n",
        "    today = datetime.today()\n",
        "    first_day_of_current_month = datetime(today.year, today.month, 1)\n",
        "\n",
        "    # Calculate the last day of the previous month\n",
        "    last_day_of_previous_month = first_day_of_current_month - timedelta(days=1)\n",
        "\n",
        "    # Calculate the first day of the month, 12 months before the last day of the previous month\n",
        "    first_day_12_months_before = (last_day_of_previous_month - relativedelta(months=12)).replace(day=1)\n",
        "\n",
        "    # Convert the start and end dates to seconds since epoch\n",
        "    start_month_seconds = ee.Date.fromYMD(first_day_12_months_before.year, first_day_12_months_before.month, first_day_12_months_before.day).millis().divide(1000)\n",
        "    end_month_seconds = ee.Date.fromYMD(last_day_of_previous_month.year, last_day_of_previous_month.month, last_day_of_previous_month.day).millis().divide(1000)\n",
        "\n",
        "    # Filter the downloaded features to get the conflicts within the specified time range\n",
        "    return acled_downloaded_features.filter(ee.Filter.And(ee.Filter.gt(\"timestamp\", start_month_seconds),\n",
        "                                                          ee.Filter.lt(\"timestamp\", end_month_seconds)))\n",
        "\n",
        "# Function to get conflict features for a specific year\n",
        "def get_conflict_features_in_year(year):\n",
        "    # Convert the year to an Earth Engine number\n",
        "    year = ee.Number(year)\n",
        "\n",
        "    # Calculate the start and end of the year in seconds since epoch\n",
        "    start_month_seconds = ee.Date.fromYMD(year, 1, 1).millis().divide(1000)\n",
        "    end_month_seconds = ee.Date.fromYMD(year.add(1), 1, 1).millis().divide(1000)\n",
        "\n",
        "    # Filter the downloaded features to get the conflicts within the specified year\n",
        "    return acled_downloaded_features.filter(ee.Filter.And(ee.Filter.gt(\"timestamp\", start_month_seconds),\n",
        "                                                          ee.Filter.lt(\"timestamp\", end_month_seconds)))\n",
        "\n",
        "# Function to create an image from conflict features based on conflict type\n",
        "def get_conflicts_image(conflicts, conflict_type):\n",
        "    # Filter conflicts by conflict type if specified, otherwise use all conflict types\n",
        "    if conflict_type and conflict_type != ALL_CONFLICTS_COMBINED:\n",
        "        conflicts = ee.FeatureCollection(conflicts.filter(ee.Filter.inList(\"event_type\", [conflict_type])))\n",
        "    else:\n",
        "        conflicts = ee.FeatureCollection(conflicts.filter(ee.Filter.inList(\"event_type\", CONFLICT_TYPES)))\n",
        "\n",
        "    # Buffer and bound the conflict features to create a conflict area\n",
        "    conflicts = conflicts.map(lambda feature: feature.buffer(2500).bounds())  # this was generating a line! .buffer(2, 100).bounds(10)) changed to 100 everywhere\n",
        "\n",
        "    # Rasterize the buffered points (polygons) into an image\n",
        "    # Assign each feature a value of 1 for visualization\n",
        "    type_band = conflicts.reduceToImage( ['timestamp'],ee.Reducer.first() ).rename('conflict');\n",
        "\n",
        "    type_band = type_band.gt(0);\n",
        "\n",
        "    # Return the self-masked image to only show areas with conflicts\n",
        "    return type_band.selfMask()\n"
      ]
    },
    {
      "cell_type": "code",
      "execution_count": null,
      "metadata": {
        "id": "0WlEYdC8M1yh"
      },
      "outputs": [],
      "source": [
        "def export_image(conflict_type, region, fileName):\n",
        "    \"\"\"\n",
        "    Export an image of conflicts for the last 12 months to Google Earth Engine.\n",
        "\n",
        "    Args:\n",
        "    conflict_type (str): The type of conflict to filter by. If None, use \"AllConflicts\".\n",
        "    region (ee.Geometry): The region to export.\n",
        "    fileName (str): The name of the file to export. If None, use the conflict type as the file name.\n",
        "\n",
        "    \"\"\"\n",
        "    # Set the conflict type and file name\n",
        "    conflict_type = conflict_type if conflict_type else ALL_CONFLICTS_COMBINED\n",
        "    exportedFileName = fileName if fileName else conflict_type\n",
        "\n",
        "    # Get the current date and calculate the first day of the current month\n",
        "    today = datetime.today()\n",
        "    first_day_of_current_month = datetime(today.year, today.month, 1)\n",
        "\n",
        "    # Calculate the last day of the previous month\n",
        "    last_day_of_previous_month = first_day_of_current_month - timedelta(days=1)\n",
        "\n",
        "    # Calculate the first day of the month, 12 months before the last day of the previous month\n",
        "    first_day_12_months_before = (last_day_of_previous_month - relativedelta(months=12)).replace(day=1)\n",
        "\n",
        "    # Convert the start and end dates to seconds since epoch\n",
        "    start_month_seconds = ee.Date.fromYMD(first_day_12_months_before.year, first_day_12_months_before.month, first_day_12_months_before.day).millis().divide(1000)\n",
        "    end_month_seconds = ee.Date.fromYMD(last_day_of_previous_month.year, last_day_of_previous_month.month, last_day_of_previous_month.day).millis().divide(1000)\n",
        "\n",
        "    # Filter the downloaded features to get the conflicts within the specified time range\n",
        "    conflicts = acled_downloaded_features.filter(ee.Filter.And(ee.Filter.gt(\"timestamp\", start_month_seconds),\n",
        "                                                               ee.Filter.lt(\"timestamp\", end_month_seconds)))\n",
        "\n",
        "    # Get the conflict image for the last year\n",
        "    image_last_year = get_conflicts_image(conflicts, conflict_type)\n",
        "\n",
        "    # Set metadata for the image\n",
        "    image_last_year = image_last_year.set(\"mosaicFrom\", first_day_12_months_before.strftime('%Y%m%d'))\n",
        "    image_last_year = image_last_year.set(\"mosaicTo\", last_day_of_previous_month.strftime('%Y%m%d'))\n",
        "    image_last_year = image_last_year.set(\"producedWithColab\", \"https://colab.research.google.com/drive/13eHZzmxk14SlEz_fK6Ah8igxgz28OoVd?usp=sharing\")\n",
        "\n",
        "    # Define the asset IDs for the export\n",
        "    assetId = f\"{prefix}/Strata_Global/PeaceAndSecurity/{exportedFileName}\"\n",
        "    assetId_temp = f\"{assetId}_temp\"\n",
        "\n",
        "    # Check if the temp file exists and delete it if it does\n",
        "    try:\n",
        "        ee.data.getAsset(assetId_temp)\n",
        "        ee.data.deleteAsset(assetId_temp)\n",
        "        print(f\"Deleted existing asset: {assetId_temp}\")\n",
        "    except ee.EEException as e:\n",
        "        if \"not found\" in str(e):\n",
        "            print(f\"Asset does not exist: {assetId_temp}\")\n",
        "        else:\n",
        "            raise\n",
        "\n",
        "    image_last_year = image_last_year.reproject( 'EPSG:3857', None, 500 );\n",
        "\n",
        "    # Export the image to an asset\n",
        "    task = ee.batch.Export.image.toAsset(\n",
        "        image=image_last_year,\n",
        "        description=f\"ACLED_{exportedFileName}\",\n",
        "        assetId=assetId_temp,\n",
        "        pyramidingPolicy={'.default': 'max'},\n",
        "        scale=1000,  # Scale of the image\n",
        "        maxPixels=1e10,\n",
        "        crs=\"EPSG:3857\",  # Coordinate Reference System\n",
        "        region=region\n",
        "    )\n",
        "\n",
        "    # Start the export task\n",
        "    task.start()\n",
        "\n",
        "    def callbackToCopyAsset():\n",
        "        \"\"\"\n",
        "        Callback function to copy the temporary asset to the final destination and make it public.\n",
        "        \"\"\"\n",
        "        print(f\" Copying from {assetId_temp} to {assetId}\")\n",
        "\n",
        "        # Copy the asset to the final destination\n",
        "        ee.data.copyAsset(assetId_temp, assetId, True)  # Overwrite if it already exists\n",
        "        ee.data.deleteAsset(assetId_temp)\n",
        "        print(f\" Deleted {assetId_temp}\")\n",
        "\n",
        "        # Make the asset public\n",
        "        acl = ee.data.getAssetAcl(assetId)\n",
        "        acl['all_users_can_read'] = True\n",
        "        ee.data.setAssetAcl(assetId, acl)\n",
        "        print(f\"Set {assetId} to be publicly accessible\")\n",
        "\n",
        "        print(f\"{assetId} : Asset containing the conflicts for the last 12 months\")\n",
        "\n",
        "    check_tasks_completion([task.id], callbackToCopyAsset)\n",
        "\n",
        "\n",
        "def generate_images(region):\n",
        "    \"\"\"\n",
        "    Generate and export images for different conflict types.\n",
        "\n",
        "    Args:\n",
        "    region (ee.Geometry): The region to export.\n",
        "    \"\"\"\n",
        "    # Export images for various conflict types\n",
        "    export_image(\"Battles\", region, None)\n",
        "    export_image(\"Riots\", region, None)\n",
        "    export_image(\"Protests\", region, None)\n",
        "    export_image(\"Explosions/Remote violence\", region, \"ExplosionsRemoteViolence\")\n",
        "    export_image(\"Violence against civilians\", region, \"ViolenceAgainstCivilians\")\n",
        "    export_image(ALL_CONFLICTS_COMBINED, region, ALL_CONFLICTS_COMBINED )\n",
        "\n"
      ]
    },
    {
      "cell_type": "markdown",
      "metadata": {
        "id": "HugUXbfuvkoR"
      },
      "source": [
        "**2.3** FINALLY : GENERATE ALL IMAGES GLOBALLY! GOAL OF PART 2\n",
        "\n"
      ]
    },
    {
      "cell_type": "code",
      "execution_count": null,
      "metadata": {
        "id": "cdhu2fUbv29B",
        "collapsed": true
      },
      "outputs": [],
      "source": [
        "# Define the region of interest\n",
        "region = ee.Geometry.Rectangle([-180, -60, 180, 60], 'EPSG:4326', False)\n",
        "testGeometry = ee.Geometry.Polygon([[[37.80477272160492, 50.12358491171723],[37.80477272160492, 48.35936521998567],[40.74910865910492, 48.35936521998567],[40.74910865910492, 50.12358491171723]]], 'EPSG:4326', False);\n",
        "#region = ee.Geometry.Rectangle([-10, -10, 10, 10], 'EPSG:4326', False)\n",
        "\n",
        "# Call the generate_images function with the specified region\n",
        "generate_images(region)\n"
      ]
    },
    {
      "cell_type": "markdown",
      "source": [],
      "metadata": {
        "id": "gMIpPRfiWfXk"
      }
    }
  ],
  "metadata": {
    "colab": {
      "provenance": [],
      "collapsed_sections": [
        "SfMnt5s1BBVJ"
      ]
    },
    "kernelspec": {
      "display_name": "Python 3",
      "name": "python3"
    },
    "language_info": {
      "name": "python"
    }
  },
  "nbformat": 4,
  "nbformat_minor": 0
}