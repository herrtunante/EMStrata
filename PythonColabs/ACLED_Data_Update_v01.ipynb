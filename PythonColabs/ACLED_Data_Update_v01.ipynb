{
  "nbformat": 4,
  "nbformat_minor": 0,
  "metadata": {
    "colab": {
      "provenance": [],
      "include_colab_link": true
    },
    "kernelspec": {
      "name": "python3",
      "display_name": "Python 3"
    },
    "language_info": {
      "name": "python"
    }
  },
  "cells": [
    {
      "cell_type": "markdown",
      "metadata": {
        "id": "view-in-github",
        "colab_type": "text"
      },
      "source": [
        "<a href=\"https://colab.research.google.com/github/herrtunante/EMStrata/blob/main/PythonColabs/ACLED_Data_Update_v01.ipynb\" target=\"_parent\"><img src=\"https://colab.research.google.com/assets/colab-badge.svg\" alt=\"Open In Colab\"/></a>"
      ]
    },
    {
      "cell_type": "markdown",
      "source": [
        "Setup imports"
      ],
      "metadata": {
        "id": "PnC7it_HNaIR"
      }
    },
    {
      "cell_type": "code",
      "source": [
        "!pip install requests\n",
        "!pip install python-dateutil\n",
        "import requests\n",
        "from datetime import datetime, timedelta, date\n",
        "from dateutil.relativedelta import relativedelta\n",
        "import ee"
      ],
      "metadata": {
        "id": "smiSlTxtNYJp"
      },
      "execution_count": null,
      "outputs": []
    },
    {
      "cell_type": "markdown",
      "source": [
        "**Connect to ACLED API**"
      ],
      "metadata": {
        "id": "JPD0eq6Lo0GV"
      }
    },
    {
      "cell_type": "markdown",
      "source": [
        "Define a method to download data from a date range"
      ],
      "metadata": {
        "id": "a8DOuA-lQkJP"
      }
    },
    {
      "cell_type": "code",
      "source": [
        "import requests\n",
        "\n",
        "def downloadData(start_date, end_date):\n",
        "    \"\"\"\n",
        "    Download data from the ACLED API within the specified date range.\n",
        "\n",
        "    Args:\n",
        "    start_date (str): The start date for the data retrieval (format: 'YYYY-MM-DD').\n",
        "    end_date (str): The end date for the data retrieval (format: 'YYYY-MM-DD').\n",
        "\n",
        "    Returns:\n",
        "    list: A list of dictionaries containing the retrieved data.\n",
        "    \"\"\"\n",
        "    # Replace with your actual API key and email\n",
        "    api_key = 'YOUR_API_KEY'  # Your unique API key from ACLED\n",
        "    email = 'YOUR_EMAIL_REGISTERED_AT_ACLED'  # The email you registered with at ACLED\n",
        "\n",
        "    # Construct the base API request URL with necessary parameters\n",
        "    base_url = (\n",
        "        f'https://api.acleddata.com/acled/read?key={api_key}&email={email}'\n",
        "        f'&event_date={start_date}|{end_date}&event_date_where=BETWEEN&limit=10000'\n",
        "        '&event_type=Riots:OR:event_type=Battles:OR:event_type=Explosions/Remote%20violence'\n",
        "        ':OR:event_type=Violence%20against%20civilians:OR:event_type=Protests'\n",
        "    )\n",
        "\n",
        "    # Initialize an empty list to hold all the retrieved data\n",
        "    all_data = []\n",
        "    page = 1  # Start from the first page of the API response\n",
        "\n",
        "    while True:\n",
        "        # Construct the URL for the current page\n",
        "        url = f\"{base_url}&page={page}\"\n",
        "        print(f\"Fetching page {page}: {url}\")\n",
        "\n",
        "        # Make the API request\n",
        "        response = requests.get(url)\n",
        "\n",
        "        # Check if the request was successful\n",
        "        if response.status_code == 200:\n",
        "            # Parse the response data\n",
        "            data = response.json()\n",
        "            if 'count' in data and data['count'] > 0:\n",
        "                # Add the retrieved data to the all_data list\n",
        "                all_data.extend(data['data'])\n",
        "                # Increment the page number for the next iteration\n",
        "                page += 1\n",
        "            else:\n",
        "                # No more data to fetch; exit the loop\n",
        "                break\n",
        "        else:\n",
        "            # Handle errors in the API request\n",
        "            raise ValueError(\"Error Fetching data\", response.status_code)\n",
        "\n",
        "    return all_data\n",
        "\n",
        "# Example usage\n",
        "# data = downloadData('2023-01-01', '2023-06-01')\n",
        "# print(data)\n"
      ],
      "metadata": {
        "id": "CJs37Dr6o5Yp"
      },
      "execution_count": 1,
      "outputs": []
    },
    {
      "cell_type": "markdown",
      "source": [
        "Download the data for the last whole month"
      ],
      "metadata": {
        "id": "nsKIrAuqQprp"
      }
    },
    {
      "cell_type": "code",
      "source": [
        "# Define some global variables to be used in m,ultiple functions\n",
        "\n",
        "# Step 2: Get today's date\n",
        "today = datetime.today()\n",
        "\n",
        "# Step 3: Calculate the first day of the current month\n",
        "first_day_of_current_month = datetime(today.year, today.month, 1)\n",
        "\n",
        "# Step 4: Subtract one day from the first day of the current month to get the last day of the previous month\n",
        "last_day_of_previous_month = first_day_of_current_month - timedelta(days=1)\n",
        "\n",
        "# Step 5: Calculate the first day of the previous month\n",
        "first_day_of_previous_month = datetime(last_day_of_previous_month.year, last_day_of_previous_month.month, 1)\n",
        "\n",
        "print( \"from \" , first_day_of_previous_month)\n",
        "print( \"to\", last_day_of_previous_month )"
      ],
      "metadata": {
        "id": "fQ50cCfMZwrF"
      },
      "execution_count": null,
      "outputs": []
    },
    {
      "cell_type": "code",
      "source": [
        "def get_conflicts_period(startDate, endDate):\n",
        "    \"\"\"\n",
        "    Retrieve conflict data for a specified period.\n",
        "\n",
        "    Args:\n",
        "    startDate (datetime): The start date for the period.\n",
        "    endDate (datetime): The end date for the period.\n",
        "\n",
        "    Returns:\n",
        "    list: A list of dictionaries containing conflict data for the specified period.\n",
        "    \"\"\"\n",
        "\n",
        "    # Format the start and end dates as strings in the format 'YYYY-MM-DD'\n",
        "    formatted_start_date = startDate.strftime(\"%Y-%m-%d\")\n",
        "    formatted_end_date = endDate.strftime(\"%Y-%m-%d\")\n",
        "\n",
        "    # Download conflict data from the ACLED API for the specified date range\n",
        "    data_period = downloadData(formatted_start_date, formatted_end_date)\n",
        "\n",
        "    return data_period\n",
        "\n",
        "# Example usage\n",
        "# from datetime import datetime\n",
        "# conflicts = get_conflicts_period(datetime(2023, 1, 1), datetime(2023, 6, 1))\n",
        "# print(conflicts)\n"
      ],
      "metadata": {
        "id": "WSijdUiBObpz"
      },
      "execution_count": null,
      "outputs": []
    },
    {
      "cell_type": "markdown",
      "source": [
        "The conflicts of the last month are stored in the data_last_month variable"
      ],
      "metadata": {
        "id": "67nvHklLR8TL"
      }
    },
    {
      "cell_type": "markdown",
      "source": [
        "**Upload latest ACLED data to Google Cloud Storage**"
      ],
      "metadata": {
        "id": "CbKPjp_Vo5tu"
      }
    },
    {
      "cell_type": "markdown",
      "source": [
        "Initialize GEE connection"
      ],
      "metadata": {
        "id": "wTjcNomJsmVL"
      }
    },
    {
      "cell_type": "code",
      "source": [
        "ee.Authenticate()\n",
        "\n",
        "# Set your Earth Engine project ID\n",
        "project_id = \"YOUR_PROJECT_ID\"\n",
        "\n",
        "# Initialize Earth Engine with your project ID\n",
        "ee.Initialize(project=project_id)\n"
      ],
      "metadata": {
        "id": "eAym7TtHpVRf"
      },
      "execution_count": null,
      "outputs": []
    },
    {
      "cell_type": "markdown",
      "source": [
        "Create FeatureCollection"
      ],
      "metadata": {
        "id": "A8EIstnfsqtC"
      }
    },
    {
      "cell_type": "code",
      "source": [
        "def generate_feature_collection_conflicts_with_data(data_downloaded):\n",
        "    \"\"\"\n",
        "    Generate a FeatureCollection from a list of data items.\n",
        "\n",
        "    Args:\n",
        "    data_downloaded (list): A list of dictionaries, where each dictionary contains\n",
        "                            'longitude', 'latitude', 'event_type', and 'timestamp' keys.\n",
        "\n",
        "    Returns:\n",
        "    ee.FeatureCollection: An Earth Engine FeatureCollection containing features with\n",
        "                          point geometries and properties.\n",
        "    \"\"\"\n",
        "    # Create a list to hold the Features\n",
        "    features = []\n",
        "\n",
        "    # Iterate over the items in your data\n",
        "    for item in data_downloaded:\n",
        "        # Create a point geometry using the longitude and latitude from the item\n",
        "        point = ee.Geometry.Point([float(item['longitude']), float(item['latitude'])])\n",
        "\n",
        "        # Define the properties for the feature using the event type and timestamp\n",
        "        properties = {'event_type': item['event_type'], 'timestamp': item['timestamp']}\n",
        "\n",
        "        # Create a feature from the point geometry and properties\n",
        "        feature = ee.Feature(point, properties)\n",
        "\n",
        "        # Add the feature to the list\n",
        "        features.append(feature)\n",
        "\n",
        "    # Create a FeatureCollection from the list of features\n",
        "    feature_collection = ee.FeatureCollection(features)\n",
        "    return feature_collection\n",
        "\n",
        "def generate_feature_collection_conflicts_period(startDate, endDate):\n",
        "    \"\"\"\n",
        "    Generate a FeatureCollection for conflicts occurring within a specified period.\n",
        "\n",
        "    Args:\n",
        "    startDate (datetime): The start date for the period.\n",
        "    endDate (datetime): The end date for the period.\n",
        "\n",
        "    Returns:\n",
        "    ee.FeatureCollection: An Earth Engine FeatureCollection containing features for\n",
        "                          conflicts occurring within the specified period.\n",
        "    \"\"\"\n",
        "    # Retrieve the conflict data for the specified period\n",
        "    data_period = get_conflicts_period(startDate, endDate)\n",
        "\n",
        "    # Generate a FeatureCollection using the conflict data\n",
        "    return generate_feature_collection_conflicts_with_data(data_period)\n"
      ],
      "metadata": {
        "id": "NkjMQVwqslPf"
      },
      "execution_count": null,
      "outputs": []
    },
    {
      "cell_type": "markdown",
      "source": [
        "Define Monitor for upload task\n"
      ],
      "metadata": {
        "id": "whaM3rI7wE-A"
      }
    },
    {
      "cell_type": "code",
      "source": [
        "import time\n",
        "\n",
        "# Function to check task completion\n",
        "def check_tasks_completion(task_ids, callbackFunction):\n",
        "    \"\"\"\n",
        "    Continuously checks the status of a list of tasks until all are completed, failed, or cancelled.\n",
        "\n",
        "    Args:\n",
        "    task_ids (list): A list of task IDs to check.\n",
        "    callbackFunction (function): A callback function to execute once all tasks are completed.\n",
        "\n",
        "    \"\"\"\n",
        "    while True:\n",
        "        all_done = True  # Flag to track if all tasks are done\n",
        "\n",
        "        # Iterate over each task ID to check its status\n",
        "        for task_id in task_ids:\n",
        "            task = ee.data.getTaskStatus(task_id)[0]  # Get the status of the current task\n",
        "            if task['state'] not in ['COMPLETED', 'FAILED', 'CANCELLED']:\n",
        "                all_done = False  # If any task is not done, set flag to False\n",
        "                break  # Exit the loop early if any task is not done\n",
        "\n",
        "        if all_done:\n",
        "            print(\"All tasks completed.\")\n",
        "\n",
        "            try:\n",
        "                # Check if the callbackFunction is callable, then execute it\n",
        "                if callable(callbackFunction):\n",
        "                    print(\"Executing callback function.\")\n",
        "                    callbackFunction()\n",
        "            except NameError:\n",
        "                # Handle the case where the callbackFunction is not defined\n",
        "                print(\"There is no callback declared.\")\n",
        "\n",
        "            break  # Exit the while loop if all tasks are done\n",
        "        else:\n",
        "            print(\"Tasks still running. Waiting...\")\n",
        "            time.sleep(30)  # Wait for 30 seconds before checking again\n",
        "\n",
        "# Example usage\n",
        "# check_tasks_completion(['task_id_1', 'task_id_2'], my_callback_function)\n"
      ],
      "metadata": {
        "id": "oBG28BCEwHyX"
      },
      "execution_count": null,
      "outputs": []
    },
    {
      "cell_type": "markdown",
      "source": [
        "# **Upload to GEE**"
      ],
      "metadata": {
        "id": "sZhdinnyulrC"
      }
    },
    {
      "cell_type": "code",
      "source": [
        "# Set the prefix for GEE username and asset folder path\n",
        "prefix = \"users/YOUR_GEE_USERNAME\"\n",
        "assetFolder = f\"{prefix}/ACLED\"  # Folder path for storing ACLED data\n",
        "task_id_array = []  # List to store task IDs for tracking\n",
        "\n",
        "def upload_conflict_asset(feature_collection, startDate, endDate):\n",
        "    \"\"\"\n",
        "    Uploads a feature collection to Google Earth Engine as an asset.\n",
        "\n",
        "    Args:\n",
        "    feature_collection (ee.FeatureCollection): The feature collection to be uploaded.\n",
        "    startDate (datetime): The start date of the data period.\n",
        "    endDate (datetime): The end date of the data period.\n",
        "\n",
        "    Returns:\n",
        "    bool: True if the task is started successfully.\n",
        "    \"\"\"\n",
        "    # Generate the asset ID using the folder path and date range\n",
        "    assetId = assetFolder + '/Events_' + startDate.strftime('%Y%m%d') + '_' + endDate.strftime('%Y%m%d')\n",
        "\n",
        "    # Define the export parameters for the task\n",
        "    task = ee.batch.Export.table.toAsset(\n",
        "        collection=feature_collection,\n",
        "        description='monthly_acleddata_' + startDate.strftime('%Y%m%d') + '_' + endDate.strftime('%Y%m%d'),\n",
        "        assetId=assetId\n",
        "    )\n",
        "\n",
        "    # Start the export task\n",
        "    task.start()\n",
        "\n",
        "    # Append the task ID to the task_id_array for tracking\n",
        "    task_id_array.append(task.id)\n",
        "\n",
        "    return True  # Task started successfully\n",
        "\n",
        "def upload_conflict_last_month_to_asset():\n",
        "    \"\"\"\n",
        "    Generates and uploads the feature collection for the last month to GEE.\n",
        "\n",
        "    Returns:\n",
        "    bool: True if the task is started successfully.\n",
        "    \"\"\"\n",
        "    # Generate the feature collection for the last month\n",
        "    last_month_feature_collection = generate_feature_collection_conflicts_period(first_day_of_previous_month, last_day_of_previous_month)\n",
        "\n",
        "    # Upload the feature collection as an asset\n",
        "    return upload_conflict_asset(last_month_feature_collection, first_day_of_previous_month, last_day_of_previous_month)\n",
        "\n",
        "def upload_conflict_period_to_asset(startDate, endDate):\n",
        "    \"\"\"\n",
        "    Generates and uploads the feature collection for a specified period to GEE.\n",
        "\n",
        "    Args:\n",
        "    startDate (datetime): The start date of the data period.\n",
        "    endDate (datetime): The end date of the data period.\n",
        "\n",
        "    Returns:\n",
        "    bool: True if the task is started successfully.\n",
        "    \"\"\"\n",
        "    # Generate the feature collection for the specified period\n",
        "    period_feature_collection = generate_feature_collection_conflicts_period(startDate, endDate)\n",
        "\n",
        "    # Upload the feature collection as an asset\n",
        "    return upload_conflict_asset(period_feature_collection, startDate, endDate)\n",
        "\n",
        "## Uncomment the following line to initiate update for the last month\n",
        "## upload_conflict_last_month_to_asset()\n",
        "\n",
        "# Example: Upload conflict data for each month from January to June 2024\n",
        "for month in range(1, 7):\n",
        "    first_day = datetime(2024, month, 1)  # First day of the month\n",
        "    last_day = datetime(2024, month + 1, 1) - timedelta(days=1)  # Last day of the month\n",
        "    upload_conflict_period_to_asset(first_day, last_day)\n",
        "\n",
        "check_tasks_completion(task_id_array, None)\n"
      ],
      "metadata": {
        "id": "OT_He_e6um_Y"
      },
      "execution_count": null,
      "outputs": []
    },
    {
      "cell_type": "markdown",
      "source": [
        "Generate a single ee.FeatureCollection that joins the data from 2023 with the monthly exports generated automaticallly"
      ],
      "metadata": {
        "id": "eE8IECMAGKfM"
      }
    },
    {
      "cell_type": "code",
      "source": [
        "\n",
        "# Load a FeatureCollection from a one-time download done back in January 2024\n",
        "acled_downloaded_features = ee.FeatureCollection(\"users/openforisearthmap/ACLED/events_20220101_202312231\")\n",
        "\n",
        "# Define the prefix and asset folder\n",
        "prefix = \"users/YOUR_GEE_USERNAME\"\n",
        "assetFolder = f\"{prefix}/ACLED\"  # Folder path for storing ACLED data\n",
        "\n",
        "# List all assets (FeatureCollections) inside the specified folder\n",
        "# Adjust the folder path as necessary\n",
        "asset_list = ee.data.listAssets(assetFolder)\n",
        "print(asset_list)  # Print the list of assets to verify\n",
        "\n",
        "# Iterate through the asset IDs and merge them with the original 2023 data\n",
        "for asset in asset_list['assets']:\n",
        "    print(f\"{asset['id']} Merging with the other ACLED events\")\n",
        "\n",
        "    # Load the FeatureCollection for the current asset\n",
        "    asset_fc = ee.FeatureCollection(asset['id'])\n",
        "\n",
        "    # Merge the current FeatureCollection with the original 2023 data\n",
        "    acled_downloaded_features = acled_downloaded_features.merge(asset_fc)\n",
        "\n",
        "# Now, acled_downloaded_features contains the merged data from the original and all monthly updates\n",
        "\n"
      ],
      "metadata": {
        "id": "2ovIE4VOGaJG"
      },
      "execution_count": null,
      "outputs": []
    },
    {
      "cell_type": "markdown",
      "source": [
        "**Generate ee.Image using the current GEE script**\n",
        "\n",
        "Original at: https://code.earthengine.google.com/?scriptPath=users%2Fopenforisinitiative%2FEarthMap%3AStrata%2FPeace_and_Security%2FACLED"
      ],
      "metadata": {
        "id": "sm3Ub1fmp2ne"
      }
    },
    {
      "cell_type": "code",
      "source": [
        "# Define the list of all conflict types to be considered\n",
        "CONFLICT_TYPES = [\"Riots\", \"Battles\", \"Explosions/Remote violence\", \"Violence against civilians\", \"Protests\"]\n",
        "\n",
        "ALL_CONFLICTS_COMBINED = \"AllConflicts\"\n",
        "\n",
        "# Function to get conflict features from the previous 12 months\n",
        "# assuming we just downloaded data from the last month (if we are in March, then February 2024)\n",
        "# we want to get the conflicts of the previous 12 months, meaning from 1st of March 2023 to end of February 2024\n",
        "def get_conflict_features_last_12_months():\n",
        "    # Get the current date and calculate the first day of the current month\n",
        "    today = datetime.today()\n",
        "    first_day_of_current_month = datetime(today.year, today.month, 1)\n",
        "\n",
        "    # Calculate the last day of the previous month\n",
        "    last_day_of_previous_month = first_day_of_current_month - timedelta(days=1)\n",
        "\n",
        "    # Calculate the first day of the month, 12 months before the last day of the previous month\n",
        "    first_day_12_months_before = (last_day_of_previous_month - relativedelta(months=12)).replace(day=1)\n",
        "\n",
        "    # Convert the start and end dates to seconds since epoch\n",
        "    start_month_seconds = ee.Date.fromYMD(first_day_12_months_before.year, first_day_12_months_before.month, first_day_12_months_before.day).millis().divide(1000)\n",
        "    end_month_seconds = ee.Date.fromYMD(last_day_of_previous_month.year, last_day_of_previous_month.month, last_day_of_previous_month.day).millis().divide(1000)\n",
        "\n",
        "    # Filter the downloaded features to get the conflicts within the specified time range\n",
        "    return acled_downloaded_features.filter(ee.Filter.And(ee.Filter.gt(\"timestamp\", start_month_seconds),\n",
        "                                                          ee.Filter.lt(\"timestamp\", end_month_seconds)))\n",
        "\n",
        "# Function to get conflict features for a specific year\n",
        "def get_conflict_features_in_year(year):\n",
        "    # Convert the year to an Earth Engine number\n",
        "    year = ee.Number(year)\n",
        "\n",
        "    # Calculate the start and end of the year in seconds since epoch\n",
        "    start_month_seconds = ee.Date.fromYMD(year, 1, 1).millis().divide(1000)\n",
        "    end_month_seconds = ee.Date.fromYMD(year.add(1), 1, 1).millis().divide(1000)\n",
        "\n",
        "    # Filter the downloaded features to get the conflicts within the specified year\n",
        "    return acled_downloaded_features.filter(ee.Filter.And(ee.Filter.gt(\"timestamp\", start_month_seconds),\n",
        "                                                          ee.Filter.lt(\"timestamp\", end_month_seconds)))\n",
        "\n",
        "# Function to create an image from conflict features based on conflict type\n",
        "def get_conflicts_image(conflicts, conflict_type):\n",
        "    # Filter conflicts by conflict type if specified, otherwise use all conflict types\n",
        "    if conflict_type and conflict_type != ALL_CONFLICTS_COMBINED:\n",
        "        conflicts = ee.FeatureCollection(conflicts.filter(ee.Filter.inList(\"event_type\", [conflict_type])))\n",
        "    else:\n",
        "        conflicts = ee.FeatureCollection(conflicts.filter(ee.Filter.inList(\"event_type\", CONFLICT_TYPES)))\n",
        "\n",
        "    # Buffer and bound the conflict features to create a conflict area\n",
        "    conflicts = conflicts.map(lambda feature: feature.buffer(2, 100).bounds(10))\n",
        "\n",
        "    # Paint the conflict features onto an image with a specified width and color\n",
        "    type_band = ee.Image(0).paint(featureCollection=conflicts, color=1, width=10).select([0], [\"conflict\"])\n",
        "\n",
        "    # Return the self-masked image to only show areas with conflicts\n",
        "    return type_band.selfMask()\n"
      ],
      "metadata": {
        "id": "Nl3bdJuXvkKo"
      },
      "execution_count": null,
      "outputs": []
    },
    {
      "cell_type": "markdown",
      "source": [
        "Genreate the images for each one of the conflict types for the last 12 months"
      ],
      "metadata": {
        "id": "D-UHxvCwMt6J"
      }
    },
    {
      "cell_type": "code",
      "source": [
        "def export_image(conflict_type, region, fileName):\n",
        "    \"\"\"\n",
        "    Export an image of conflicts for the last 12 months to Google Earth Engine.\n",
        "\n",
        "    Args:\n",
        "    conflict_type (str): The type of conflict to filter by. If None, use \"AllConflicts\".\n",
        "    region (ee.Geometry): The region to export.\n",
        "    fileName (str): The name of the file to export. If None, use the conflict type as the file name.\n",
        "\n",
        "    \"\"\"\n",
        "    # Set the conflict type and file name\n",
        "    conflict_type = conflict_type if conflict_type else ALL_CONFLICTS_COMBINED\n",
        "    exportedFileName = fileName if fileName else conflict_type\n",
        "\n",
        "    # Get the current date and calculate the first day of the current month\n",
        "    today = datetime.today()\n",
        "    first_day_of_current_month = datetime(today.year, today.month, 1)\n",
        "\n",
        "    # Calculate the last day of the previous month\n",
        "    last_day_of_previous_month = first_day_of_current_month - timedelta(days=1)\n",
        "\n",
        "    # Calculate the first day of the month, 12 months before the last day of the previous month\n",
        "    first_day_12_months_before = (last_day_of_previous_month - relativedelta(months=12)).replace(day=1)\n",
        "\n",
        "    # Convert the start and end dates to seconds since epoch\n",
        "    start_month_seconds = ee.Date.fromYMD(first_day_12_months_before.year, first_day_12_months_before.month, first_day_12_months_before.day).millis().divide(1000)\n",
        "    end_month_seconds = ee.Date.fromYMD(last_day_of_previous_month.year, last_day_of_previous_month.month, last_day_of_previous_month.day).millis().divide(1000)\n",
        "\n",
        "    # Filter the downloaded features to get the conflicts within the specified time range\n",
        "    conflicts = acled_downloaded_features.filter(ee.Filter.And(ee.Filter.gt(\"timestamp\", start_month_seconds),\n",
        "                                                               ee.Filter.lt(\"timestamp\", end_month_seconds)))\n",
        "\n",
        "    # Get the conflict image for the last year\n",
        "    image_last_year = get_conflicts_image(conflicts, conflict_type)\n",
        "\n",
        "    # Set metadata for the image\n",
        "    image_last_year = image_last_year.set(\"mosaicFrom\", first_day_12_months_before.strftime('%Y%m%d'))\n",
        "    image_last_year = image_last_year.set(\"mosaicTo\", last_day_of_previous_month.strftime('%Y%m%d'))\n",
        "    image_last_year = image_last_year.set(\"producedWithColab\", \"https://colab.research.google.com/drive/13eHZzmxk14SlEz_fK6Ah8igxgz28OoVd?usp=sharing\")\n",
        "\n",
        "    # Define the asset IDs for the export\n",
        "    assetId = f\"{prefix}/Strata_Global/PeaceAndSecurity/{exportedFileName}_last12Months\"\n",
        "    assetId_temp = f\"{assetId}_temp\"\n",
        "\n",
        "    # Check if the temp file exists and delete it if it does\n",
        "    try:\n",
        "        ee.data.getAsset(assetId_temp)\n",
        "        ee.data.deleteAsset(assetId_temp)\n",
        "        print(f\"Deleted existing asset: {assetId_temp}\")\n",
        "    except ee.EEException as e:\n",
        "        if \"not found\" in str(e):\n",
        "            print(f\"Asset does not exist: {assetId_temp}\")\n",
        "        else:\n",
        "            raise\n",
        "\n",
        "    # Export the image to an asset\n",
        "    task = ee.batch.Export.image.toAsset(\n",
        "        image=image_last_year,\n",
        "        description=f\"ACLED_{exportedFileName}\",\n",
        "        assetId=assetId_temp,\n",
        "        pyramidingPolicy={'.default': 'max'},\n",
        "        scale=500,  # Scale of the image\n",
        "        maxPixels=1e10,\n",
        "        crs=\"EPSG:4326\",  # Coordinate Reference System\n",
        "        region=region\n",
        "    )\n",
        "\n",
        "    # Start the export task\n",
        "    task.start()\n",
        "\n",
        "    def callbackToCopyAsset():\n",
        "        \"\"\"\n",
        "        Callback function to copy the temporary asset to the final destination and make it public.\n",
        "        \"\"\"\n",
        "        print(f\" Copying from {assetId_temp} to {assetId}\")\n",
        "\n",
        "        # Copy the asset to the final destination\n",
        "        ee.data.copyAsset(assetId_temp, assetId, True)  # Overwrite if it already exists\n",
        "        ee.data.deleteAsset(assetId_temp)\n",
        "        print(f\" Deleted {assetId_temp}\")\n",
        "\n",
        "        # Make the asset public\n",
        "        acl = ee.data.getAssetAcl(assetId)\n",
        "        acl['all_users_can_read'] = True\n",
        "        ee.data.setAssetAcl(assetId, acl)\n",
        "        print(f\"Set {assetId} to be publicly accessible\")\n",
        "\n",
        "        print(f\"{assetId} : Asset containing the conflicts for the last 12 months\")\n",
        "\n",
        "    check_tasks_completion([task.id], callbackToCopyAsset)\n",
        "\n",
        "\n",
        "def generate_images(region):\n",
        "    \"\"\"\n",
        "    Generate and export images for different conflict types.\n",
        "\n",
        "    Args:\n",
        "    region (ee.Geometry): The region to export.\n",
        "    \"\"\"\n",
        "    # Export images for various conflict types\n",
        "    export_image(\"Battles\", region, None)\n",
        "    export_image(\"Riots\", region, None)\n",
        "    export_image(\"Protests\", region, None)\n",
        "    export_image(\"Explosions/Remote violence\", region, \"ExplosionsRemoteViolence\")\n",
        "    export_image(\"Violence against civilians\", region, \"ViolenceAgainstCivilians\")\n",
        "    export_image(\"ALL_CONFLICTS_COMBINED\", region )\n",
        "\n"
      ],
      "metadata": {
        "id": "0WlEYdC8M1yh"
      },
      "execution_count": null,
      "outputs": []
    },
    {
      "cell_type": "markdown",
      "source": [
        "# FINALLY : GENERATE ALL IMAGES GLOBALLY!"
      ],
      "metadata": {
        "id": "HugUXbfuvkoR"
      }
    },
    {
      "cell_type": "code",
      "source": [
        "# Define the region of interest\n",
        "region = ee.Geometry.Rectangle([-180, -60, 180, 60], 'EPSG:4326', False)\n",
        "#region = ee.Geometry.Rectangle([-10, -10, 10, 10], 'EPSG:4326', False)\n",
        "\n",
        "# Call the generate_images function with the specified region\n",
        "generate_images(region)\n"
      ],
      "metadata": {
        "id": "cdhu2fUbv29B"
      },
      "execution_count": null,
      "outputs": []
    }
  ]
}