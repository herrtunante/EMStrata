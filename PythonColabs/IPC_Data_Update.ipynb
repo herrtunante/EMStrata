{
  "cells": [
    {
      "cell_type": "markdown",
      "metadata": {
        "id": "view-in-github",
        "colab_type": "text"
      },
      "source": [
        "<a href=\"https://colab.research.google.com/github/herrtunante/EMStrata/blob/main/PythonColabs/IPC_Data_Update.ipynb\" target=\"_parent\"><img src=\"https://colab.research.google.com/assets/colab-badge.svg\" alt=\"Open In Colab\"/></a>"
      ]
    },
    {
      "cell_type": "markdown",
      "metadata": {
        "id": "HTWlu1Sd0jgm"
      },
      "source": [
        "# SET-UP THE LIBRARIES USED IN THE SCRIPTS\n"
      ]
    },
    {
      "cell_type": "code",
      "execution_count": null,
      "metadata": {
        "id": "CJs37Dr6o5Yp"
      },
      "outputs": [],
      "source": [
        "!pip install requests\n",
        "!pip install google-cloud-storage\n",
        "!pip install pycountry\n",
        "!pip install geojson\n",
        "\n",
        "\n",
        "import ee\n",
        "import requests\n",
        "import pycountry\n",
        "import datetime\n",
        "\n",
        "from datetime import datetime\n",
        "from geojson import loads"
      ]
    },
    {
      "cell_type": "markdown",
      "metadata": {
        "id": "MDIuH_UUZF8g"
      },
      "source": [
        "Define global variables"
      ]
    },
    {
      "cell_type": "code",
      "execution_count": null,
      "metadata": {
        "id": "-LSR9VAQNqJL"
      },
      "outputs": [],
      "source": [
        "# Base URL for the IPC API\n",
        "base_url = \"https://api.ipcinfo.org\"\n",
        "api_key = 'YOUR_API_KEY'  # Replace with your actual API key\n",
        "\n",
        "\n",
        "\n",
        "# Define the prefix and asset folder\n",
        "prefix = \"users/YOUR_USER_NAME_IN_GEE\"\n",
        "assetFolder = f\"{prefix}/IPC_updates\"\n",
        "assetId = f\"{assetFolder}/IPC_phase3AndAbove\"\n",
        "assetId_temp = f\"{assetId}_temp\"\n",
        "tempFolder = f\"{assetFolder}/temporary\"\n",
        "\n"
      ]
    },
    {
      "cell_type": "markdown",
      "source": [
        "# SET-UP GEE CONNECTION"
      ],
      "metadata": {
        "id": "SDFpYf5J_2J6"
      }
    },
    {
      "cell_type": "code",
      "execution_count": null,
      "metadata": {
        "id": "1ll4YPP_5ESu"
      },
      "outputs": [],
      "source": [
        "ee.Authenticate()\n",
        "\n",
        "# Set your Earth Engine project ID\n",
        "project_id = \"YOUR_PROJECT_ID\"\n",
        "\n",
        "# Initialize Earth Engine with your project ID\n",
        "ee.Initialize(project=project_id)\n"
      ]
    },
    {
      "cell_type": "markdown",
      "metadata": {
        "id": "JPD0eq6Lo0GV"
      },
      "source": [
        "#Connect to API and download latest IPC data. Save to Asset folder on GEE"
      ]
    },
    {
      "cell_type": "markdown",
      "metadata": {
        "id": "9a9ucsTWVKe2"
      },
      "source": [
        "Define auxilliary methods that can be used in multiple blocks later\n"
      ]
    },
    {
      "cell_type": "code",
      "execution_count": null,
      "metadata": {
        "id": "MGOq8yF4puCf"
      },
      "outputs": [],
      "source": [
        "import time\n",
        "# Function to check task completion\n",
        "def check_tasks_completion(task_ids):\n",
        "    while True:\n",
        "        all_done = True\n",
        "        for task_id in task_ids:\n",
        "            task = ee.data.getTaskStatus(task_id)[0]\n",
        "            if task['state'] not in ['COMPLETED', 'FAILED', 'CANCELLED']:\n",
        "                all_done = False\n",
        "                break  # Exit the loop early if any task is not done\n",
        "        if all_done:\n",
        "            print(\"All tasks completed.\")\n",
        "            break\n",
        "        else:\n",
        "            print(\"Tasks still running. Waiting...\")\n",
        "            time.sleep(30)  # Wait for 30 seconds before checking again\n",
        "\n",
        "# Function to check if the asset exists\n",
        "def check_asset_exists(asset_name):\n",
        "    try:\n",
        "        asset_info = ee.data.getInfo(asset_name)\n",
        "        return asset_info is not None\n",
        "    except ee.EEException:\n",
        "        return False\n",
        "\n",
        "#Create folder if it does not exists\n",
        "def create_folder_if_it_does_not_exist( folder ):\n",
        "  if not ee.data.getInfo(folder):\n",
        "      try:\n",
        "          ee.data.createAsset({'type': 'Folder'}, folder)\n",
        "          print(f\"Folder '{folder}' created successfully.\")\n",
        "      except ee.EEException as e:\n",
        "          print(f\"Failed to create folder 1: {folder}\")\n",
        "          print(f\"Failed to create folder 2: {e}\")\n",
        "  else:\n",
        "      print(f\"Folder '{folder}' already exists.\")\n",
        "\n",
        "def delete_asset_if_exists( asset ):\n",
        "  if ( check_asset_exists(asset) is False ):\n",
        "    print(f\"Asset {asset} does not exist!\")\n",
        "  else :\n",
        "    print(f\"Deleteing asset : {asset}\" )\n",
        "    ee.data.deleteAsset(asset)\n",
        "\n",
        "\n",
        "\n",
        "# Polling for asset rename completion\n",
        "def waitForAssetToBeRenamed(new_asset_name):\n",
        "  while not check_asset_exists(new_asset_name):\n",
        "      print(\"Waiting for asset to be renamed...\")\n",
        "      time.sleep(10)  # Wait for 10 seconds before checking again\n",
        "\n",
        "\n",
        "# Delete assets inside a folder\n",
        "def delete_assets_in_folder(folder_path):\n",
        "    # Get a list of assets in the folder\n",
        "    asset_list = ee.data.getList({'id': folder_path})\n",
        "    for asset in asset_list:\n",
        "        asset_id = asset['id']\n",
        "        # Delete the asset\n",
        "        ee.data.deleteAsset(asset_id)\n",
        "        print(f\"Deleted asset: {asset_id}\")\n"
      ]
    },
    {
      "cell_type": "markdown",
      "metadata": {
        "id": "HqnLTHTgN8d-"
      },
      "source": [
        "#Check if the folder exist in the GEE account"
      ]
    },
    {
      "cell_type": "code",
      "execution_count": null,
      "metadata": {
        "id": "WdwYLix6YJHJ"
      },
      "outputs": [],
      "source": [
        "# Create the folder if it doesn't exist\n",
        "create_folder_if_it_does_not_exist( assetFolder )\n",
        "create_folder_if_it_does_not_exist( tempFolder )\n"
      ]
    },
    {
      "cell_type": "markdown",
      "metadata": {
        "id": "_w_20SgeONiz"
      },
      "source": [
        "#Delete all content inside the folder before downloading new dataset"
      ]
    },
    {
      "cell_type": "code",
      "execution_count": null,
      "metadata": {
        "id": "PUgcOXc_ngmu"
      },
      "outputs": [],
      "source": [
        "# Delete assets in the 'temp' folder where the old country data is\n",
        "delete_assets_in_folder(tempFolder)"
      ]
    },
    {
      "cell_type": "markdown",
      "metadata": {
        "id": "z3cMMN4uOUEK"
      },
      "source": [
        "#Finally, download all latest IPC data and save to the asset folder in the GEE\n",
        "\n",
        "---\n",
        "\n",
        "account"
      ]
    },
    {
      "cell_type": "code",
      "execution_count": null,
      "metadata": {
        "id": "pEVHmg6LKIud"
      },
      "outputs": [],
      "source": [
        "# Function to convert month abbreviation to number\n",
        "def month_to_number(month_str):\n",
        "    return ee.Dictionary({\n",
        "        'Jan': 1, 'Feb': 2, 'Mar': 3, 'Apr': 4,\n",
        "        'May': 5, 'Jun': 6, 'Jul': 7, 'Aug': 8,\n",
        "        'Sep': 9, 'Oct': 10, 'Nov': 11, 'Dec': 12\n",
        "    }).get(month_str)\n",
        "\n",
        "# Function to parse date string into number and add parsed_date property to each feature\n",
        "def add_parsed_date(feature):\n",
        "    date_str = ee.String(feature.get(\"to\"))\n",
        "    parts = date_str.split(' ')\n",
        "    month_num = month_to_number(parts.get(0))\n",
        "    year = ee.Number.parse(parts.get(1))\n",
        "    feature = feature.set(\"parsed_date\", year.multiply(100).add(month_num))\n",
        "    feature = feature.set(\"month\", month_num)\n",
        "    feature = feature.set(\"year\", year)\n",
        "    return feature\n",
        "\n",
        "# Function to get newest country analysis\n",
        "def get_newest_country_analysis(country_features):\n",
        "    country_features_with_dates = country_features.filter(ee.Filter.stringContains(\"to\", \"20\")) \\\n",
        "        .map(add_parsed_date)\n",
        "    unique_areas = country_features_with_dates.distinct('title')\n",
        "    newest_country_analysis = unique_areas.map(lambda feature:\n",
        "        country_features_with_dates.filter(ee.Filter.eq('title', feature.get('title')))\n",
        "        .sort('parsed_date', False).first())\n",
        "    return newest_country_analysis\n",
        "\n",
        "# Define the function to export to a temporary folder\n",
        "def export_to_temporary_folder(feature_collection, country_code, year):\n",
        "    # Modify the description to include the country code\n",
        "    description = f\"ExportIPCData_{country_code}_{year}\"\n",
        "    task = ee.batch.Export.table.toAsset(\n",
        "        collection=feature_collection,\n",
        "        description=description,\n",
        "        assetId=f\"{tempFolder}/{description}\"  # Use the modified description for the assetId as well\n",
        "    )\n",
        "    # Start the export task and monitor its status\n",
        "    print(f\"Starting task to upload FeatureCollection for country code {country_code}..\")\n",
        "    task.start()\n",
        "    return task.id\n",
        "\n",
        "def get_features_for_country_in_year( iso_code, year ):\n",
        "        # Construct the request URL\n",
        "        request_url = f\"{base_url}/areas?format=geojson&year={year}&type=A&country={iso_code}&key={api_key}\"\n",
        "\n",
        "        # Make the API request for the current year\n",
        "        response_current_year = requests.get(request_url)\n",
        "        if response_current_year.status_code == 200:\n",
        "            geojson_data = response_current_year.json()\n",
        "            if isinstance(geojson_data, dict) and geojson_data.get('type') == 'FeatureCollection' and 'features' in geojson_data and len(geojson_data['features']) > 0:\n",
        "                return ee.FeatureCollection(geojson_data)\n",
        "        return None\n",
        "\n",
        "\n",
        "try:\n",
        "    # Initialize variables\n",
        "    listCountryData = ee.List([])\n",
        "    sequence = 0\n",
        "    task_id_array = []\n",
        "\n",
        "    # Get current year and previous year\n",
        "    current_year = datetime.now().year\n",
        "\n",
        "    # Loop through all countries using their ISO CODE 2\n",
        "    for country in pycountry.countries:\n",
        "        iso_code = country.alpha_2\n",
        "\n",
        "        # Loop backwards from 2024\n",
        "        for year in range(current_year, 2022, -1):  # Adjust the end year as needed\n",
        "            featureCollection = get_features_for_country_in_year( iso_code, year )\n",
        "            # Break the loop if example_variable is not None\n",
        "            if featureCollection is not None:\n",
        "                print(f\"Found data for {iso_code} in {year}\")  # You can remove or replace this print statement as needed\n",
        "\n",
        "                try:\n",
        "                  task_id = export_to_temporary_folder(featureCollection, iso_code, year)\n",
        "                  print(f\"Task {task_id} started to run\")\n",
        "                  task_id_array.append(task_id)\n",
        "                except ee.EEException as e:\n",
        "                  print('Failed to upload the FeatureCollection! ', e)\n",
        "\n",
        "                break\n",
        "\n",
        "    # Wait until all export tasks are finished\n",
        "    check_tasks_completion(task_id_array)\n",
        "\n",
        "except requests.exceptions.RequestException as e:\n",
        "    print(f\"An error occurred: {e}\")\n",
        "\n"
      ]
    },
    {
      "cell_type": "markdown",
      "metadata": {
        "id": "4YdNWc8uWlM-"
      },
      "source": [
        "**AT THIS POINT, WE HAVE THE IPC DATA DOWNLOADED INTO FEATURECOLLECTIONS IN THE TEMPFOLDER**"
      ]
    },
    {
      "cell_type": "markdown",
      "metadata": {
        "id": "XfdcBEXUW5P-"
      },
      "source": [
        "# **NOW WE NEED TO READ THOSE FEATURE COLLECTIONS, PUT THEM TOGETHER INTO A SINGLE FEATURE COLLECTION WITH ALL THE IPC LATEST DATA AND GENERATE A SINGLE IMAGE!**"
      ]
    },
    {
      "cell_type": "markdown",
      "metadata": {
        "id": "pDqu7PWI_IGv"
      },
      "source": [
        "#Functions to read the assets, selecting the latest data and flatten everything into one FeatureCollection (IPC>=3)"
      ]
    },
    {
      "cell_type": "code",
      "execution_count": null,
      "metadata": {
        "id": "7VqOaE9a_UWt"
      },
      "outputs": [],
      "source": [
        "\n",
        "# Function to convert month abbreviation to number\n",
        "def month_to_number(month_str):\n",
        "    return ee.Dictionary({\n",
        "        'Jan': 1, 'Feb': 2, 'Mar': 3, 'Apr': 4,\n",
        "        'May': 5, 'Jun': 6, 'Jul': 7, 'Aug': 8,\n",
        "        'Sep': 9, 'Oct': 10, 'Nov': 11, 'Dec': 12\n",
        "    }).get(month_str)\n",
        "\n",
        "# Function to parse date string into number and add parsed_date property to each feature\n",
        "def add_parsed_date(feature):\n",
        "    date_str = ee.String(feature.get(\"to\"))\n",
        "    parts = date_str.split(' ')\n",
        "    month_num = month_to_number(parts.get(0))\n",
        "    year = ee.Number.parse(parts.get(1))\n",
        "    feature = feature.set(\"parsed_date\", year.multiply(100).add(month_num))\n",
        "    feature = feature.set(\"month\", month_num)\n",
        "    feature = feature.set(\"year\", year)\n",
        "    return feature\n",
        "\n",
        "# Function to get newest country analysis\n",
        "def get_newest_country_analysis(country_features):\n",
        "    country_features_with_dates = country_features.filter(ee.Filter.stringContains(\"to\", \"20\")) \\\n",
        "        .map(add_parsed_date)\n",
        "    unique_areas = country_features_with_dates.distinct('title')\n",
        "    newest_country_analysis = unique_areas.map(lambda feature:\n",
        "        country_features_with_dates.filter(ee.Filter.eq('title', feature.get('title')))\n",
        "        .sort('parsed_date', False).first())\n",
        "    return newest_country_analysis\n",
        "\n",
        "# Function to read country data from export folder\n",
        "def read_country_data_from_export_folder( folder_path ):\n",
        "    features_by_country = []\n",
        "    assets_list = ee.data.listAssets(folder_path)\n",
        "    for country_asset in assets_list['assets']:\n",
        "        asset_id = country_asset['id']\n",
        "        print(f\"Reading asset: {asset_id}\")\n",
        "        collection_per_country = ee.FeatureCollection(asset_id)\n",
        "        newest_collection_per_country = get_newest_country_analysis(collection_per_country)\n",
        "        features_by_country.append(newest_collection_per_country)\n",
        "    return features_by_country\n",
        "\n",
        "\n",
        "print(f\"Started reading assets in: {tempFolder}\")\n",
        "# Read the country features\n",
        "country_features_with_newest_analysis = read_country_data_from_export_folder( tempFolder )\n",
        "print(f\"Finised reading assets in: {tempFolder}\")\n",
        "# Flatten the country features into a single Feature Collection\n",
        "all_latest_analysis = ee.FeatureCollection(country_features_with_newest_analysis).flatten()\n",
        "print(f\"All features are stored in Feature Collection: all_latest_analysis\")\n",
        "\n"
      ]
    },
    {
      "cell_type": "markdown",
      "metadata": {
        "id": "qvCBCPjDXXcS"
      },
      "source": [
        "**all_latest_analysis** CONTAINS AL OF THE LATEST IPC DATA !!!"
      ]
    },
    {
      "cell_type": "markdown",
      "metadata": {
        "id": "GNsHcyKVXnTA"
      },
      "source": [
        "Generate the image (filtering with IPC level > 3) and export it to an asset !"
      ]
    },
    {
      "cell_type": "code",
      "execution_count": null,
      "metadata": {
        "id": "_bWx3Owwfrkg"
      },
      "outputs": [],
      "source": [
        "# Function to get IPC image\n",
        "def get_ipc_image(analysis):\n",
        "    food_insecure = analysis.filter(ee.Filter.gte(\"overall_phase\", 3))\n",
        "    return food_insecure.reduceToImage([\"parsed_date\"], ee.Reducer.max())\n",
        "\n",
        "\n",
        "# Define the region of interest (example) coversing the whole world\n",
        "region = ee.Geometry.Rectangle([-180, -85, 180, 85], 'EPSG:4326', False)\n",
        "\n",
        "ipcImage = get_ipc_image(all_latest_analysis)\n",
        "\n",
        "# Add a 0/1 band if there was an IPC 3 or more report\n",
        "ipcImage = ipcImage.addBands( ipcImage.gt(0).select( [0], [ \"bin\"]) )\n",
        "\n",
        "current_time = datetime.now()\n",
        "# Format the time as YYYY-MM-DD HH:MM\n",
        "formatted_time = current_time.strftime('%Y-%m-%d %H:%M')\n",
        "\n",
        "ipcImage = ipcImage.set(\"generatedOn\", formatted_time )\n",
        "ipcImage = ipcImage.set( \"producedWithColab\", \"https://colab.research.google.com/drive/10sQ_Op-0Resnd8bq3MWevnrzp-lfaeVK\")\n",
        "\n",
        "\n",
        "# Make sure the temp asset is not present before update\n",
        "delete_asset_if_exists( assetId_temp )\n",
        "\n",
        "# Export the image\n",
        "task = ee.batch.Export.image.toAsset(\n",
        "        image=ipcImage,\n",
        "        description=f\"IPC_phase3_latest_to_temp_asset\",\n",
        "        assetId=assetId_temp,\n",
        "        pyramidingPolicy={'.default': 'max'},\n",
        "        scale=500,  # Adjust the scale as needed\n",
        "        maxPixels=1e10,\n",
        "        crs=\"EPSG:4326\",\n",
        "        region=region\n",
        "    )\n",
        "task.start()\n",
        "# Monitor the export task\n",
        "check_tasks_completion( [task.id]) # monitor the task using a single value array!\n"
      ]
    },
    {
      "cell_type": "markdown",
      "metadata": {
        "id": "0UKybWA_OtLE"
      },
      "source": [
        "# // 4.1 Copy the temporary image into the final assetId and delete the temporary asset"
      ]
    },
    {
      "cell_type": "code",
      "execution_count": null,
      "metadata": {
        "id": "s3iE09qpDGYl"
      },
      "outputs": [],
      "source": [
        "# When the task is done, copy asset to final destination and clean-up\n",
        "ee.data.copyAsset(\n",
        "    assetId_temp,\n",
        "    assetId,\n",
        "    True,  # Overwrite the original asset with the temporary one if it was already present\n",
        ")\n",
        "print( \"Finally we have the image in its final asset reference \", assetId)\n",
        "\n",
        "\n",
        "# Make the asset public\n",
        "acl = ee.data.getAssetAcl(assetId)\n",
        "acl['all_users_can_read'] = True\n",
        "ee.data.setAssetAcl(assetId, acl)\n",
        "print(f\"Set {assetId} to be publicly accessible\")\n",
        "\n",
        "#Delete Temporary asset not needed any more\n",
        "#ee.data.deleteAsset(assetId_temp)\n",
        "print(f\" Deleted { assetId_temp}\")\n",
        "\n",
        "# Delete assets in the 'temp' folder where the old country data is\n",
        "delete_assets_in_folder(tempFolder)"
      ]
    }
  ],
  "metadata": {
    "colab": {
      "provenance": [],
      "include_colab_link": true
    },
    "kernelspec": {
      "display_name": "Python 3",
      "name": "python3"
    },
    "language_info": {
      "name": "python"
    }
  },
  "nbformat": 4,
  "nbformat_minor": 0
}